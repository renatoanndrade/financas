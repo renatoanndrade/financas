{
 "cells": [
  {
   "cell_type": "code",
   "execution_count": 16,
   "metadata": {},
   "outputs": [
    {
     "name": "stdout",
     "output_type": "stream",
     "text": [
      "montante = 2769230.769230769, o quanto tem que ter = 3461538.461538461\n"
     ]
    }
   ],
   "source": [
    "# Como calcular o dividendo ao ano\n",
    "d = 30000\n",
    "taa = 13\n",
    "m = (d*12*100)/taa\n",
    "leao = m/(1-0.2)\n",
    "print(f'montante = {m}, o quanto tem que ter = {leao}')"
   ]
  },
  {
   "cell_type": "code",
   "execution_count": 10,
   "metadata": {},
   "outputs": [
    {
     "name": "stdout",
     "output_type": "stream",
     "text": [
      "49\n",
      "1153137.384 18474.3 14211\n"
     ]
    }
   ],
   "source": [
    "i = 5000\n",
    "vc = 101.43\n",
    "rm = 1.3\n",
    "nc = round(i/vc)\n",
    "ds = 0\n",
    "print(nc)\n",
    "\n",
    "for x in range(12*3):\n",
    "    ds += nc * rm\n",
    "    if ds > vc:\n",
    "        nc += round(ds/vc)\n",
    "    nc += round(i/vc)\n",
    "patr = nc*vc*(1-0.2)\n",
    "div = nc*rm\n",
    "print(patr, div, nc)"
   ]
  },
  {
   "cell_type": "code",
   "execution_count": null,
   "metadata": {},
   "outputs": [],
   "source": []
  }
 ],
 "metadata": {
  "kernelspec": {
   "display_name": "Python 3.8.7 64-bit",
   "language": "python",
   "name": "python3"
  },
  "language_info": {
   "codemirror_mode": {
    "name": "ipython",
    "version": 3
   },
   "file_extension": ".py",
   "mimetype": "text/x-python",
   "name": "python",
   "nbconvert_exporter": "python",
   "pygments_lexer": "ipython3",
   "version": "3.8.7"
  },
  "orig_nbformat": 4,
  "vscode": {
   "interpreter": {
    "hash": "c87cfe4c107c91d3427f44f1147db2a5b76fe7794a575ac4c74cc7f6ffba11c6"
   }
  }
 },
 "nbformat": 4,
 "nbformat_minor": 2
}
