{
 "cells": [
  {
   "cell_type": "code",
   "execution_count": 40,
   "metadata": {},
   "outputs": [
    {
     "name": "stdout",
     "output_type": "stream",
     "text": [
      "2531110.4614945725\n"
     ]
    }
   ],
   "source": [
    "def valorizacao(xf, xi):\n",
    "    return (xf - xi)/xi\n",
    "\n",
    "def calc_lucro(brli, chzi, x):\n",
    "    return chzi*x - brli\n",
    "\n",
    "def tranf(l, tx):\n",
    "    t = l/(2-tx)\n",
    "    return t\n",
    "\n",
    "def compra(brl, chz, t, x, tx):\n",
    "    brl += -t\n",
    "    chz += (t/x)*(1-tx)\n",
    "    return brl, chz\n",
    "\n",
    "def vende(brl, chz, t, x, tx):\n",
    "    brl += t*(1-tx)\n",
    "    chz += -(t/x)\n",
    "    return brl, chz\n",
    "\n",
    "def transfere(brl, chz, t, x, tx):\n",
    "    #calculo do lucro = chzi*x - brli -> + vende e -compra\n",
    "    if t > 0:\n",
    "        #-vende\n",
    "        brl, chz = vende(brl, chz, abs(t), x, tx)\n",
    "    elif t < 0:\n",
    "        #-compra\n",
    "        brl, chz = compra(brl, chz, abs(t), x, tx)\n",
    "    return brl, chz\n",
    "\n",
    "m = 1000\n",
    "total = []\n",
    "for y in range(1000):\n",
    "    import random\n",
    "    xi = 1\n",
    "    brli = m/2\n",
    "    chzi = m/2\n",
    "    tx = 0.01     \n",
    "    xff = 1\n",
    "    for x in range(10):\n",
    "        varia = random.uniform(-0.5, 0.9)\n",
    "        xf = xi * (1+varia)\n",
    "\n",
    "        val = valorizacao(xf, xi)\n",
    "        if val > 0.03 or val < 0.03:\n",
    "            l1 = calc_lucro(brli, chzi, xf)\n",
    "            t1 = tranf(l1, tx)\n",
    "            brlt, chzt = transfere(brli, chzi, t1, xf, tx)\n",
    "\n",
    "            l2 = calc_lucro(brlt, chzt, xi)\n",
    "            t2 = tranf(l2, tx)\n",
    "            brlf, chzf = transfere(brlt, chzt, t2, xi, tx)\n",
    "\n",
    "            delta_brl = brlf - brli\n",
    "            delta_chz = chzf - chzi  \n",
    "\n",
    "            if delta_brl > 0 and delta_chz > 0:\n",
    "                brli, chzi = transfere(brli, chzi, t1, xf, tx)\n",
    "                xi = xf\n",
    "    total.append(chzi*xf+brli)\n",
    "\n",
    "print(sum(total))"
   ]
  },
  {
   "cell_type": "code",
   "execution_count": null,
   "metadata": {},
   "outputs": [],
   "source": []
  },
  {
   "cell_type": "code",
   "execution_count": null,
   "metadata": {},
   "outputs": [],
   "source": []
  }
 ],
 "metadata": {
  "kernelspec": {
   "display_name": "Python 3.7.7 64-bit",
   "language": "python",
   "name": "python3"
  },
  "language_info": {
   "codemirror_mode": {
    "name": "ipython",
    "version": 3
   },
   "file_extension": ".py",
   "mimetype": "text/x-python",
   "name": "python",
   "nbconvert_exporter": "python",
   "pygments_lexer": "ipython3",
   "version": "3.7.7"
  },
  "orig_nbformat": 4,
  "vscode": {
   "interpreter": {
    "hash": "e51adf55a4ca4305a4a6e8182bfb2a244a108ccc73e4ce3043231f4ffc0e749b"
   }
  }
 },
 "nbformat": 4,
 "nbformat_minor": 2
}
