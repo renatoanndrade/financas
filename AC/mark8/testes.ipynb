{
 "cells": [
  {
   "cell_type": "code",
   "execution_count": 1,
   "metadata": {},
   "outputs": [
    {
     "name": "stdout",
     "output_type": "stream",
     "text": [
      "540.40563738 2391080.55\n"
     ]
    }
   ],
   "source": [
    "from modulos import *\n",
    "from funcs import *\n",
    "\n",
    "aba_aberta = False\n",
    "nami = Firefox()\n",
    "brl_i, chz_i, x1, x2, chz_i_to_brl = inicializar(nami)\n",
    "print(brl_i, chz_i)"
   ]
  },
  {
   "cell_type": "code",
   "execution_count": 3,
   "metadata": {},
   "outputs": [
    {
     "name": "stdout",
     "output_type": "stream",
     "text": [
      "0 1640713866.739086\n",
      "v [-0.0005527371108655643, -2.3061525002121925, 2862.038795086717, 2862.038242349606, 14500145.03462673, 14500142.72847423, 4.260168791437193]  0.00019738\n",
      "0 1640713866.739086\n",
      "v [3.1133543870964786e-05, 0.955977750942111, 2862.038795086717, 2862.038826220261, 14500145.03462673, 14500145.99060448, 4.260168791437193]  0.00019738\n",
      "1 1640713879.7992816\n",
      "1 1640713879.7992816\n",
      "1 1640713879.7992816\n"
     ]
    }
   ],
   "source": [
    "def vigia(nami, x1, x2, brl_i, chz_i, aba_aberta, xi, luc, ganho, ini, tempo, tx):\n",
    "    beta = 0\n",
    "    effecinco = 0\n",
    "\n",
    "    valor_de_delta = 21\n",
    "\n",
    "    n = 0\n",
    "    v = 0\n",
    "    c = 0\n",
    "\n",
    "\n",
    "    while True:\n",
    "\n",
    "        # Atualiza ganho\n",
    "        ganho, ini = atualiza_ganho(ini, ganho, tempo)  \n",
    "\n",
    "        #retorna +, -, espera\n",
    "        _, x1, x2, l, state_transation, aba_aberta = cabecalho(nami, chz_i, brl_i, xi, aba_aberta)\n",
    "\n",
    "        #retorna pode_vender, pode_compra, espera\n",
    "        status_movimentacao, delta_brl, delta_chz, qtd = simulando(x1, x2, xi, chz_i, brl_i, l, state_transation, valor_de_delta, ganho, luc, tx)\n",
    "        \n",
    "        # retona os valores de venda e compra\n",
    "        v, c, n, brl_i, chz_i, xi, luc, ganho, ini = movimentando(nami, x1, x2, xi, chz_i, brl_i, qtd, status_movimentacao, n, v, c, luc, ganho, ini)     \n",
    "        #limpa a tela se necessário\n",
    "        beta, effecinco, aba_aberta = limpa_tela(beta, nami, 5, effecinco, 10, aba_aberta)  \n",
    "\n",
    "\n",
    "\n",
    "xi = 0.00021700\n",
    "brl_i = 3000\n",
    "chz_i = brl_i/xi\n",
    "tx = 0.001\n",
    "luc = 0\n",
    "ganho = 1.0\n",
    "ini = time.time()\n",
    "tempo = 120\n",
    "\n",
    "\n",
    "vigia(nami, x1, x2, brl_i, chz_i, aba_aberta, xi, luc, ganho, ini, tempo, tx)"
   ]
  },
  {
   "cell_type": "code",
   "execution_count": null,
   "metadata": {},
   "outputs": [],
   "source": [
    "\n",
    "        except:\n",
    "            print('falhou')\n",
    "            nami.refresh()\n",
    "            sleep(30)     "
   ]
  }
 ],
 "metadata": {
  "interpreter": {
   "hash": "5904ff8cabcbfa02cebac97a2faf56a609c64aa257de87556d508b036f24bf9b"
  },
  "kernelspec": {
   "display_name": "Python 3.8.7 64-bit",
   "language": "python",
   "name": "python3"
  },
  "language_info": {
   "codemirror_mode": {
    "name": "ipython",
    "version": 3
   },
   "file_extension": ".py",
   "mimetype": "text/x-python",
   "name": "python",
   "nbconvert_exporter": "python",
   "pygments_lexer": "ipython3",
   "version": "3.7.6"
  },
  "orig_nbformat": 4
 },
 "nbformat": 4,
 "nbformat_minor": 2
}
