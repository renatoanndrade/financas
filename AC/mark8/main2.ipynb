{
 "cells": [
  {
   "cell_type": "code",
   "execution_count": 6,
   "metadata": {},
   "outputs": [],
   "source": [
    "import func2\n",
    "from modulos import *\n",
    "\n",
    "aba_aberta = False\n",
    "nami = Firefox()\n",
    "d = func2.Logar(nami)"
   ]
  },
  {
   "cell_type": "code",
   "execution_count": 235,
   "metadata": {},
   "outputs": [],
   "source": [
    "import pandas as pd\n",
    "from random import randint\n",
    "df = pd.read_excel('ativos.xlsx')\n",
    "df2 = []\n",
    "df2 = pd.DataFrame()\n",
    "for x in range(len(df)):\n",
    "    nami.get(df.link[x])\n",
    "    sleep(2)\n",
    "    price = nami.find_element_by_css_selector('div[class = \"showPrice\"]').text\n",
    "    data = {'price':price}\n",
    "    df2 = df2.append(data, ignore_index=True) \n"
   ]
  },
  {
   "cell_type": "code",
   "execution_count": 236,
   "metadata": {},
   "outputs": [],
   "source": [
    "df['new_price'] = df2['price']\n",
    "df.to_excel('depois.xlsx')"
   ]
  },
  {
   "cell_type": "code",
   "execution_count": null,
   "metadata": {},
   "outputs": [],
   "source": [
    "df['buy_price'] = df2['price']\n",
    "df.to_excel('buy_price.xlsx')"
   ]
  }
 ],
 "metadata": {
  "kernelspec": {
   "display_name": "Python 3.7.7 64-bit",
   "language": "python",
   "name": "python3"
  },
  "language_info": {
   "codemirror_mode": {
    "name": "ipython",
    "version": 3
   },
   "file_extension": ".py",
   "mimetype": "text/x-python",
   "name": "python",
   "nbconvert_exporter": "python",
   "pygments_lexer": "ipython3",
   "version": "3.7.7"
  },
  "orig_nbformat": 4,
  "vscode": {
   "interpreter": {
    "hash": "e51adf55a4ca4305a4a6e8182bfb2a244a108ccc73e4ce3043231f4ffc0e749b"
   }
  }
 },
 "nbformat": 4,
 "nbformat_minor": 2
}
