{
 "cells": [
  {
   "cell_type": "code",
   "execution_count": 6,
   "metadata": {},
   "outputs": [],
   "source": [
    "import func2\n",
    "from modulos import *\n",
    "import pandas as pd\n",
    "\n",
    "aba_aberta = False\n",
    "nami = Firefox()\n",
    "d = func2.Logar(nami)"
   ]
  },
  {
   "cell_type": "code",
   "execution_count": 7,
   "metadata": {},
   "outputs": [],
   "source": [
    "\n",
    "df = pd.read_excel('ativos.xlsx')\n",
    "data = []\n",
    "for x in range(len(df)):\n",
    "    nami.get(df.link[x])\n",
    "    sleep(2)\n",
    "    price = nami.find_element_by_css_selector('div[class = \"showPrice\"]').text\n",
    "    price = price.replace(',', '')\n",
    "    price = float(price)\n",
    "    data.append(price)\n",
    "df['new_price'] = data"
   ]
  },
  {
   "cell_type": "code",
   "execution_count": 35,
   "metadata": {},
   "outputs": [],
   "source": [
    "def calc_lucro(chz_i, x2, x1):\n",
    "    return chz_i*(x2-x1)\n",
    "\n",
    "def tranferencia(lucro, taxa):\n",
    "    return lucro/(2-taxa)\n",
    "\n",
    "def tranferindo(t_1, tx, chz, brl, x2):\n",
    "    #vende\n",
    "    if t_1 > 0: \n",
    "        brl_t = brl + t_1*(1-tx)\n",
    "        chz_t = chz - t_1/x2\n",
    "    #compra\n",
    "    elif t_1 < 0: \n",
    "        brl_t = brl + t_1\n",
    "        chz_t = chz - (t_1/x2)*(1-tx)\n",
    "    else:\n",
    "        brl_t = brl\n",
    "        chz_t = chz\n",
    "    return brl_t, chz_t\n",
    "\n",
    "def calc_ganho_real(brl_f, chz_f, chz_i, brl_i):\n",
    "    brl_g = brl_f - brl_i\n",
    "    chz_g = chz_f - chz_i\n",
    "    p_brl_g = ((brl_f - brl_i)/brl_i)*100\n",
    "    p_chz_g = ((chz_f - chz_i)/chz_i)*100\n",
    "    return brl_g, chz_g, p_brl_g, p_chz_g\n",
    "\n",
    "\n",
    "\n",
    "l_1, l_2 = [], []\n",
    "t_1, t_2 = [], []\n",
    "brl_t, brl_f, brl_g, chz_t, chz_f, chz_g = [], [], [], [], [], []\n",
    "porc_brl, porc_chz = [], []\n",
    "tx = 0.001\n",
    "\n",
    "for x in range(len(df)):\n",
    "    x1= df.buy_price[x]\n",
    "    x2 = df.new_price[x]\n",
    "    chz_i = df.chz_i[x]\n",
    "    brl_i = df.brl_i[x]\n",
    "    l_1.append(calc_lucro(chz_i, x2, x1))\n",
    "    t_1.append(tranferencia(l_1[x], tx))\n",
    "\n",
    "    brl, chz = tranferindo(t_1[x], tx, chz_i, brl_i, x2)\n",
    "    brl_t.append(brl)\n",
    "    chz_t.append(chz)\n",
    "\n",
    "    l_2.append(calc_lucro(chz_t[x], x1, x2))\n",
    "    t_2.append(tranferencia(l_2[x], tx))\n",
    "\n",
    "    brl2, chz2 = tranferindo(t_2[x], tx, chz_t[x], brl_t[x], x1)\n",
    "    brl_f.append(brl2)\n",
    "    chz_f.append(chz2)\n",
    "\n",
    "    brl_gg, chz_gg, p_brl_gg, p_chz_gg = calc_ganho_real(brl_f[x], chz_f[x], chz_i, brl_i)\n",
    "    brl_g.append(brl_gg)\n",
    "    chz_g.append(chz_gg)\n",
    "    porc_brl.append(p_brl_gg)\n",
    "    porc_chz.append(p_chz_gg)\n",
    "\n",
    "\n"
   ]
  },
  {
   "cell_type": "code",
   "execution_count": 52,
   "metadata": {},
   "outputs": [],
   "source": [
    "links_transf = []\n",
    "for x in range(len(df)):\n",
    "    a = (df.new_price[x]-df.buy_price[x])/df.buy_price[x]\n",
    "    if a > 0.002 or a < -0.002:\n",
    "        if porc_brl[x] > 5:\n",
    "            links_transf.append(x)"
   ]
  },
  {
   "cell_type": "code",
   "execution_count": 55,
   "metadata": {},
   "outputs": [],
   "source": [
    "for x in range(len(links_transf)):\n",
    "    nami.get(df.link[x])"
   ]
  },
  {
   "cell_type": "code",
   "execution_count": null,
   "metadata": {},
   "outputs": [],
   "source": []
  }
 ],
 "metadata": {
  "kernelspec": {
   "display_name": "Python 3.7.7 64-bit",
   "language": "python",
   "name": "python3"
  },
  "language_info": {
   "codemirror_mode": {
    "name": "ipython",
    "version": 3
   },
   "file_extension": ".py",
   "mimetype": "text/x-python",
   "name": "python",
   "nbconvert_exporter": "python",
   "pygments_lexer": "ipython3",
   "version": "3.7.7"
  },
  "orig_nbformat": 4,
  "vscode": {
   "interpreter": {
    "hash": "e51adf55a4ca4305a4a6e8182bfb2a244a108ccc73e4ce3043231f4ffc0e749b"
   }
  }
 },
 "nbformat": 4,
 "nbformat_minor": 2
}
