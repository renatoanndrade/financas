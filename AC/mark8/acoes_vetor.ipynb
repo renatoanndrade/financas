{
 "cells": [
  {
   "cell_type": "code",
   "execution_count": 1,
   "metadata": {},
   "outputs": [],
   "source": [
    "import func2\n",
    "from modulos import *\n",
    "aba_aberta = False\n",
    "nami = Firefox()\n",
    "d = func2.Logar(nami)"
   ]
  },
  {
   "cell_type": "code",
   "execution_count": 2,
   "metadata": {},
   "outputs": [],
   "source": [
    "import pandas as pd\n",
    "from random import randint\n",
    "df = pd.read_excel('ativos.xlsx')\n",
    "data = []\n",
    "for x in range(len(df)):\n",
    "    nami.get(df.link[x])\n",
    "    sleep(2)\n",
    "    price = nami.find_element_by_css_selector('div[class = \"showPrice\"]').text\n",
    "    price = price.replace(',', '')\n",
    "    price = float(price)\n",
    "    data.append(price)\n",
    "df['new_price'] = data\n"
   ]
  },
  {
   "cell_type": "code",
   "execution_count": 46,
   "metadata": {},
   "outputs": [],
   "source": [
    "# variacao ideal\n",
    "q_v = 0.2\n",
    "xf = []\n",
    "varia = []\n",
    "\n",
    "def xf_f(x1, x2, xf, q_v, varia):\n",
    "    var = ((x2 - x1)/x1)*100\n",
    "    varia.append(var)\n",
    "    if (var > q_v or var < -q_v):\n",
    "        xf.append(x2)\n",
    "    else:\n",
    "        xf.append(x1)\n",
    "\n",
    "\n",
    "for x in range(len(df)):\n",
    "    xf_f(float(df.buy_price[x].replace(',', '')), df['new_price'][x], xf, q_v, varia)   \n",
    "\n",
    "\n",
    "df['varia'] = varia\n",
    "df['xf'] = xf \n"
   ]
  },
  {
   "cell_type": "code",
   "execution_count": 47,
   "metadata": {},
   "outputs": [],
   "source": [
    "#calc do lucro\n",
    "def calc_chzf(x1, x2, brl, chzi, chzfx, lucro):\n",
    "    var = ((x2 - x1)/x1)*100 \n",
    "    chzfx.append(chzi*x2)\n",
    "    proft = chzi*x2 - brl\n",
    "    if (proft > 10 or proft < - 10):\n",
    "        lucro.append(chzi*x2 - brl)\n",
    "    else:\n",
    "        lucro.append(0)   \n",
    "chzfx = []\n",
    "lucro = []\n",
    "for x in range(len(df)):\n",
    "    x1 = float(df.buy_price[x].replace(',', ''))\n",
    "    x2 = float(df.xf[x])\n",
    "    brl = float(df.BRL[x])\n",
    "    chzi = float(df.CHZi[x])\n",
    "    calc_chzf(x1, x2, brl, chzi, chzfx, lucro)\n",
    "\n",
    "df['CHZfx'] = chzfx\n",
    "df['l'] = lucro\n",
    "\n"
   ]
  },
  {
   "cell_type": "code",
   "execution_count": 48,
   "metadata": {},
   "outputs": [],
   "source": [
    "# Calculo da transferencia\n",
    "tx = 0.001\n",
    "t = []\n",
    "for x in range(len(df)):\n",
    "    t.append(df.l[x]/(2-tx))        \n",
    "df['t'] = t\n"
   ]
  },
  {
   "cell_type": "code",
   "execution_count": 49,
   "metadata": {},
   "outputs": [],
   "source": [
    "# Calculos do brl e chz de transição\n",
    "brl_t = []\n",
    "chz_t = []\n",
    "for x in range(len(df)):\n",
    "  t_brl = df.t[x]\n",
    "  t_chz = t_brl/df.xf[x]\n",
    "  # se a t é positiva, vc vende\n",
    "  if t_brl > 0:\n",
    "    brl_t.append(df.BRL[x] + t_brl*(1-tx))\n",
    "    chz_t.append(df.CHZi[x] + t_chz)\n",
    "  # se a t é negativa vc compra\n",
    "  elif t_brl < 0:\n",
    "    brl_t.append(df.BRL[x] + t_brl)\n",
    "    chz_t.append(df.CHZi[x] + t_chz*(1-tx))\n",
    "  else:\n",
    "    brl_t.append(df.BRL[x])\n",
    "    chz_t.append(df.CHZi[x])\n",
    "\n",
    "df['brl_t'] = brl_t\n",
    "df['chz_t'] = chz_t\n"
   ]
  },
  {
   "cell_type": "code",
   "execution_count": 50,
   "metadata": {},
   "outputs": [],
   "source": [
    "#calc do lucro voltando\n",
    "ganho = 0.2\n",
    "def calc_chzf(x1, x2, brl, chzi, chzfx, lucro):\n",
    "    var = ((x2 - x1)/x1)*100 \n",
    "    chzfx2.append(chzi*x2)\n",
    "    proft = chzi*x2 - brl\n",
    "    if (proft > ganho or proft < - ganho):\n",
    "        lucro2.append(chzi*x2 - brl)\n",
    "    else:\n",
    "        lucro2.append(0)   \n",
    "\n",
    "chzfx2 = []\n",
    "lucro2 = []\n",
    "for x in range(len(df)):\n",
    "    x2 = float(df.buy_price[x].replace(',', ''))\n",
    "    x1 = float(df.xf[x])\n",
    "    brl = float(df.brl_t[x])\n",
    "    chzi = float(df.chz_t[x])\n",
    "    calc_chzf(x1, x2, brl, chzi, chzfx2, lucro2)\n",
    "\n",
    "df['CHZfx2'] = chzfx2\n",
    "df['l2'] = lucro2\n"
   ]
  },
  {
   "cell_type": "code",
   "execution_count": 51,
   "metadata": {},
   "outputs": [],
   "source": [
    "# Calculo da transferencia\n",
    "t2 = []\n",
    "for x in range(len(df)):\n",
    "    t2.append(df.l2[x]/(2-tx))        \n",
    "df['t2'] = t2"
   ]
  },
  {
   "cell_type": "code",
   "execution_count": 52,
   "metadata": {},
   "outputs": [
    {
     "name": "stdout",
     "output_type": "stream",
     "text": [
      "0.0\n",
      "0.0\n",
      "-1.3787115516511854\n",
      "-1.4615381430642684\n",
      "0.0\n",
      "-2.0019908440232617\n",
      "0.0\n",
      "0.0\n",
      "0.0\n",
      "-1.9805183889538642\n",
      "-21.123042985759174\n",
      "-0.11821498116978477\n",
      "0.0\n",
      "0.0\n",
      "0.0\n",
      "-0.9744681465273306\n",
      "0.0\n",
      "-4.062409009093883\n",
      "-0.1865147651621374\n",
      "-2.1354747055595835\n",
      "0.0\n",
      "-0.17758461367866005\n",
      "0.0\n",
      "-1.0678777812360125\n",
      "-0.12277043863506441\n",
      "-2.5436212151094173\n",
      "-0.4365698242650594\n",
      "0.0\n",
      "0.0\n",
      "-0.12624052230682326\n"
     ]
    }
   ],
   "source": [
    "# Calculos do brl e chz de transição\n",
    "brl_f = []\n",
    "chz_f = []\n",
    "for x in range(len(df)):\n",
    "  t_brl2 = df.t2[x]  \n",
    "  t_chz2 = df.t2[x]/float(df.buy_price[x].replace(',', ''))\n",
    "  # se a t é positiva, vc vende\n",
    "  if t_brl2 > 0:\n",
    "    brl_f.append(df.brl_t[x] + t_brl2*(1-tx))\n",
    "    chz_f.append(df.chz_t[x] + t_chz2)\n",
    "  # se a t é negativa vc compra\n",
    "  elif t_brl2 < 0:\n",
    "    brl_f.append(df.brl_t[x] + t_brl2)\n",
    "    chz_f.append(df.chz_t[x] + t_chz2*(1-tx))\n",
    "  else:\n",
    "    brl_f.append(df.brl_t[x])\n",
    "    chz_f.append(df.chz_t[x])\n",
    "\n",
    "df['brl_f'] = brl_f\n",
    "df['chz_f'] = chz_f"
   ]
  },
  {
   "cell_type": "code",
   "execution_count": 53,
   "metadata": {},
   "outputs": [
    {
     "name": "stdout",
     "output_type": "stream",
     "text": [
      "arquivo removido\n"
     ]
    }
   ],
   "source": [
    "import os\n",
    "if os.path.exists('depois.xlsx'):\n",
    "  os.remove('depois.xlsx')\n",
    "  print(\"arquivo removido\")\n",
    "else:\n",
    "  print(\"The file does not exist\") \n",
    "df.to_excel('depois.xlsx')"
   ]
  },
  {
   "cell_type": "code",
   "execution_count": null,
   "metadata": {},
   "outputs": [],
   "source": []
  }
 ],
 "metadata": {
  "kernelspec": {
   "display_name": "Python 3.7.7 64-bit",
   "language": "python",
   "name": "python3"
  },
  "language_info": {
   "codemirror_mode": {
    "name": "ipython",
    "version": 3
   },
   "file_extension": ".py",
   "mimetype": "text/x-python",
   "name": "python",
   "nbconvert_exporter": "python",
   "pygments_lexer": "ipython3",
   "version": "3.7.7"
  },
  "orig_nbformat": 4,
  "vscode": {
   "interpreter": {
    "hash": "e51adf55a4ca4305a4a6e8182bfb2a244a108ccc73e4ce3043231f4ffc0e749b"
   }
  }
 },
 "nbformat": 4,
 "nbformat_minor": 2
}
