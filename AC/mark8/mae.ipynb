{
 "cells": [
  {
   "cell_type": "code",
   "execution_count": 1,
   "metadata": {},
   "outputs": [
    {
     "name": "stdout",
     "output_type": "stream",
     "text": [
      "449.55963379 3043701.83\n"
     ]
    }
   ],
   "source": [
    "from modulos import *\n",
    "from funcs import *\n",
    "aba_aberta = False\n",
    "nami = Firefox()\n",
    "brl_i, chz_i, x1, x2, chz_i_to_brl = inicializar(nami)\n",
    "print(brl_i, chz_i)"
   ]
  },
  {
   "cell_type": "code",
   "execution_count": 25,
   "metadata": {},
   "outputs": [
    {
     "name": "stdout",
     "output_type": "stream",
     "text": [
      "449.7097899350032 3040652.7803905974\n"
     ]
    }
   ],
   "source": [
    "tx = 0.001\n",
    "xi, _ = xii(nami, aba_aberta)\n",
    "\n",
    "def delta_X(xf, xi):\n",
    "    return xf - xi\n",
    "\n",
    "def trans(chz, del_x, tx):\n",
    "    return 0.5*chz*del_x*(1+tx)\n",
    "\n",
    "def vender(brl, chz, transf, xf, tx):\n",
    "    brl += transf*(1-tx)\n",
    "    chz += -transf/xf\n",
    "    return brl, chz\n",
    "\n",
    "def comprar(brl, chz, transf, xf, tx):\n",
    "    brl += -transf*(1-tx)\n",
    "    chz += transf/xf\n",
    "    return brl, chz\n",
    "\n",
    "\n",
    "del_x = delta_X(x1, xi)\n",
    "\n",
    "transf = trans(chz_i, abs(del_x), tx)\n",
    "brl_t, chz_t = vender(brl_i, chz_i, transf, x1, tx)\n",
    "\n",
    "transf = trans(chz_t, abs(del_x), tx)\n",
    "brl_f, chz_f = comprar(brl_t, chz_t, transf, xi, tx)\n",
    "\n",
    "print(brl_f, chz_f)"
   ]
  },
  {
   "cell_type": "code",
   "execution_count": 32,
   "metadata": {},
   "outputs": [
    {
     "name": "stdout",
     "output_type": "stream",
     "text": [
      "0.13882427811842035 -2921.543304666411\n",
      "0.00014779\n"
     ]
    }
   ],
   "source": [
    "del_x = delta_X(x2, xi)\n",
    "\n",
    "transf1 = trans(chz_i, abs(del_x), tx)\n",
    "brl_t, chz_t = comprar(brl_i, chz_i, transf1, xi, tx)\n",
    "\n",
    "transf2 = trans(chz_t, abs(del_x), tx)\n",
    "brl_f, chz_f = vender(brl_t, chz_t, transf2, x2, tx)\n",
    "print(brl_f-brl_i, chz_f-chz_i)\n",
    "print(xi)"
   ]
  },
  {
   "cell_type": "code",
   "execution_count": null,
   "metadata": {},
   "outputs": [],
   "source": []
  }
 ],
 "metadata": {
  "interpreter": {
   "hash": "b3ba2566441a7c06988d0923437866b63cedc61552a5af99d1f4fb67d367b25f"
  },
  "kernelspec": {
   "display_name": "Python 3.7.6 64-bit ('base': conda)",
   "name": "python3"
  },
  "language_info": {
   "codemirror_mode": {
    "name": "ipython",
    "version": 3
   },
   "file_extension": ".py",
   "mimetype": "text/x-python",
   "name": "python",
   "nbconvert_exporter": "python",
   "pygments_lexer": "ipython3",
   "version": "3.7.6"
  },
  "orig_nbformat": 4
 },
 "nbformat": 4,
 "nbformat_minor": 2
}
