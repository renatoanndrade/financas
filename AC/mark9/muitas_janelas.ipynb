{
 "cells": [
  {
   "cell_type": "code",
   "execution_count": 4,
   "metadata": {},
   "outputs": [],
   "source": [
    "import func2\n",
    "from IPython.display import clear_output\n",
    "from modulos import *\n",
    "import numpy as np"
   ]
  },
  {
   "cell_type": "code",
   "execution_count": 5,
   "metadata": {},
   "outputs": [],
   "source": [
    "nami = Firefox()\n",
    "d = func2.Logar(nami)\n",
    "df  = pd.read_excel('sites_bsud.xlsx')\n",
    "nami.get(df.links[0])"
   ]
  },
  {
   "cell_type": "code",
   "execution_count": 2,
   "metadata": {},
   "outputs": [],
   "source": [
    "df  = pd.read_excel('sites_bsud.xlsx')\n",
    "\n",
    "def pega_vol(nami, site):\n",
    "    nami.get(site)\n",
    "    sleep(0.2)\n",
    "    try:\n",
    "        nami.find_element_by_css_selector('div[id = \"1h\"]').click() \n",
    "        x = float(nami.find_element_by_css_selector('div[class = \"showPrice\"]').text.replace('M', 'e6').replace('K', 'e3').replace('B', 'e9').replace(',',''))\n",
    "    except:\n",
    "        sleep(2)\n",
    "        nami.find_element_by_css_selector('div[id = \"1h\"]').click() \n",
    "        x = float(nami.find_element_by_css_selector('div[class = \"showPrice\"]').text.replace('M', 'e6').replace('K', 'e3').replace('B', 'e9').replace(',',''))\n",
    "\n",
    "    try:              \n",
    "        elem2 = nami.find_element_by_css_selector('span[key = \"VOL[1]Series\"]').text\n",
    "        elem1 = nami.find_element_by_css_selector('span[key = \"VOL[0]Series\"]').text        \n",
    "    except:\n",
    "        nami.refresh()\n",
    "        sleep(5)        \n",
    "        nami.find_element_by_css_selector('div[class = \"css-bt1pje\"]').click()\n",
    "        sleep(0.2)\n",
    "        nami.find_element_by_css_selector('div[class = \" css-u3hpig\"]').click()\n",
    "        sleep(0.2)\n",
    "        nami.find_element_by_css_selector('label[class = \"css-p736ms\"]').click()\n",
    "        sleep(0.2)\n",
    "        nami.find_element_by_css_selector('button[class = \" css-yrnpk2\"]').click()      \n",
    "        sleep(0.2)\n",
    "        elem1 = nami.find_element_by_css_selector('span[key = \"VOL[0]Series\"]').text        \n",
    "        elem2 = nami.find_element_by_css_selector('span[key = \"VOL[1]Series\"]').text\n",
    " \n",
    "    def imp_t(elem1, elem2):\n",
    "        brl = float(elem2.replace('M', 'e6').replace('K', 'e3').replace('B', 'e9'))\n",
    "        chz = float(elem1.replace('M', 'e6').replace('K', 'e3').replace('B', 'e9'))\n",
    "        if (chz*x is 0 or brl is 0) : \n",
    "            return 0            \n",
    "        else: \n",
    "            return brl/(chz*x)\n",
    "    return imp_t(elem1, elem2)\n",
    "\n"
   ]
  },
  {
   "cell_type": "code",
   "execution_count": 12,
   "metadata": {},
   "outputs": [],
   "source": [
    "x = 3\n",
    "links_quebrados = np.array(df.links).reshape([int(len(df)/x), x])\n"
   ]
  },
  {
   "cell_type": "code",
   "execution_count": 13,
   "metadata": {},
   "outputs": [],
   "source": [
    "for l in links_quebrados[0:2]:\n",
    "    volumes = [print(site) for site in l if pega_vol(nami, site) > 10]\n",
    "\n"
   ]
  },
  {
   "cell_type": "code",
   "execution_count": 1,
   "metadata": {},
   "outputs": [
    {
     "ename": "NameError",
     "evalue": "name 'volumes' is not defined",
     "output_type": "error",
     "traceback": [
      "\u001b[1;31m---------------------------------------------------------------------------\u001b[0m",
      "\u001b[1;31mNameError\u001b[0m                                 Traceback (most recent call last)",
      "\u001b[1;32m<ipython-input-1-4a6a1bd0a266>\u001b[0m in \u001b[0;36m<module>\u001b[1;34m\u001b[0m\n\u001b[1;32m----> 1\u001b[1;33m \u001b[0mvolumes\u001b[0m\u001b[1;33m\u001b[0m\u001b[1;33m\u001b[0m\u001b[0m\n\u001b[0m",
      "\u001b[1;31mNameError\u001b[0m: name 'volumes' is not defined"
     ]
    }
   ],
   "source": [
    "volumes"
   ]
  },
  {
   "cell_type": "code",
   "execution_count": 7,
   "metadata": {},
   "outputs": [
    {
     "data": {
      "text/plain": [
       "1.402000000000001"
      ]
     },
     "execution_count": 7,
     "metadata": {},
     "output_type": "execute_result"
    }
   ],
   "source": [
    "15.9*0.78-11"
   ]
  },
  {
   "cell_type": "code",
   "execution_count": null,
   "metadata": {},
   "outputs": [],
   "source": []
  }
 ],
 "metadata": {
  "kernelspec": {
   "display_name": "Python 3.7.7 64-bit",
   "language": "python",
   "name": "python3"
  },
  "language_info": {
   "codemirror_mode": {
    "name": "ipython",
    "version": 3
   },
   "file_extension": ".py",
   "mimetype": "text/x-python",
   "name": "python",
   "nbconvert_exporter": "python",
   "pygments_lexer": "ipython3",
   "version": "3.7.7 (tags/v3.7.7:d7c567b08f, Mar 10 2020, 10:41:24) [MSC v.1900 64 bit (AMD64)]"
  },
  "orig_nbformat": 4,
  "vscode": {
   "interpreter": {
    "hash": "e51adf55a4ca4305a4a6e8182bfb2a244a108ccc73e4ce3043231f4ffc0e749b"
   }
  }
 },
 "nbformat": 4,
 "nbformat_minor": 2
}
