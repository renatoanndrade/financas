{
 "cells": [
  {
   "cell_type": "code",
   "execution_count": 145,
   "metadata": {},
   "outputs": [],
   "source": [
    "import func2\n",
    "from modulos import *\n",
    "import pandas as pd\n",
    "aba_aberta = False\n",
    "nami = Firefox()\n",
    "d = func2.Logar(nami)\n",
    "\n",
    "#df['lins2'] = links\n",
    "#df.to_excel('arq3.xlsx')"
   ]
  },
  {
   "cell_type": "code",
   "execution_count": 146,
   "metadata": {},
   "outputs": [],
   "source": [
    "df = pd.read_excel('arq.xlsx')\n",
    "del df[df.columns[0]] # serve para deletar a coluna index\n",
    "# Pegando novos preços\n",
    "\n",
    "def pega_precos(link): \n",
    "    nami.get(link)\n",
    "    sleep(0.3)\n",
    "    return float(nami.find_element_by_css_selector('div[class = \"showPrice\"]').text.replace(',', ''))\n",
    "new_price = list(map(pega_precos, df.links))\n",
    "df['new_price'] = new_price\n",
    "#df.to_excel('arq.xlsx')"
   ]
  },
  {
   "cell_type": "code",
   "execution_count": 147,
   "metadata": {},
   "outputs": [],
   "source": [
    "def vende(brl_i, chz_i, abs_t, x, tx):\n",
    "    brl_t = brl_i + abs_t*(1-tx)\n",
    "    chz_t = chz_i - abs_t/x    \n",
    "    return brl_t, chz_t\n",
    "\n",
    "def compra(brl_i, chz_i, abs_t, x, tx):\n",
    "    brl_t = brl_i - abs_t\n",
    "    chz_t = chz_i + (abs_t/x)*(1-tx)    \n",
    "    return brl_t, chz_t\n",
    "\n",
    "def transferencia(brl_i, chz_i, t, abs_t, x):\n",
    "    tx = 0.001\n",
    "    if t > 0:\n",
    "        return vende(brl_i, chz_i, abs_t, x, tx)\n",
    "    elif t < 0:\n",
    "        return compra(brl_i, chz_i, abs_t, x, tx)\n",
    "    else:\n",
    "        return brl_i, chz_i\n",
    "\n",
    "\n",
    "l2 = df.chz_i*(df.new_price - df.buy_p)\n",
    "tx = 0.001\n",
    "t = l2/(2-tx)\n",
    "abs_t = abs(t)\n",
    "brl_t, chz_t = zip(*map(transferencia, df.brl_i, df.chz_i, t, abs_t, df.new_price))\n",
    "\n",
    "l2 = chz_t*(df.buy_p - df.new_price)\n",
    "tx = 0.001\n",
    "t2 = l2/(2-tx)\n",
    "abs_t2 = abs(t2)\n",
    "brl_f, chz_f = zip(*map(transferencia, brl_t, chz_t, t2, abs_t2, df.buy_p))\n",
    "\n",
    "g_brl = brl_f - df.brl_i\n",
    "g_chz = chz_f - df.chz_i\n",
    "\n",
    "df['brl_t'], df['chz_t'], df['brl_f'], df['chz_f'] = brl_t, chz_t, brl_f, chz_f\n",
    "df['g_brl'] = g_brl\n",
    "df['f_chz'] = g_chz\n",
    "df.to_excel('arq3.xlsx')"
   ]
  },
  {
   "cell_type": "code",
   "execution_count": 99,
   "metadata": {},
   "outputs": [
    {
     "name": "stdout",
     "output_type": "stream",
     "text": [
      "19.53125\n"
     ]
    }
   ],
   "source": [
    "#Rodar somente quando for fazer depósito\n",
    "m = 5000\n",
    "md2 = m/2\n",
    "md2_128  = md2/128 \n",
    "print(md2_128)\n",
    "\n",
    "chz = lambda x: md2_128 / x\n",
    "chz_i = list(map(chz, df.buy_p))\n",
    "\n",
    "df['brl_i'] = [(md2_128) for x in range(len(df))]\n",
    "df['chz_i'] = chz_i\n",
    "#df.to_excel('arq3.xlsx')"
   ]
  },
  {
   "cell_type": "code",
   "execution_count": null,
   "metadata": {},
   "outputs": [],
   "source": []
  }
 ],
 "metadata": {
  "kernelspec": {
   "display_name": "Python 3.7.7 64-bit",
   "language": "python",
   "name": "python3"
  },
  "language_info": {
   "codemirror_mode": {
    "name": "ipython",
    "version": 3
   },
   "file_extension": ".py",
   "mimetype": "text/x-python",
   "name": "python",
   "nbconvert_exporter": "python",
   "pygments_lexer": "ipython3",
   "version": "3.7.7"
  },
  "orig_nbformat": 4,
  "vscode": {
   "interpreter": {
    "hash": "e51adf55a4ca4305a4a6e8182bfb2a244a108ccc73e4ce3043231f4ffc0e749b"
   }
  }
 },
 "nbformat": 4,
 "nbformat_minor": 2
}
