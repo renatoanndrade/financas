{
 "cells": [
  {
   "cell_type": "markdown",
   "metadata": {},
   "source": [
    "Essa é uma forma de verificar como está indo as ações"
   ]
  },
  {
   "cell_type": "code",
   "execution_count": 6,
   "metadata": {},
   "outputs": [
    {
     "name": "stdout",
     "output_type": "stream",
     "text": [
      "{'data': 'Normal'}\n"
     ]
    }
   ],
   "source": [
    "from binance.client import Client\n",
    "from secrets import api_secrets, api_key\n",
    "from binance.enums import *\n",
    "import matplotlib.pyplot as plt\n",
    "import numpy as np\n",
    "import plotly.express as px\n",
    "from scipy import stats\n",
    "from time import sleep\n",
    "\n",
    "client = Client(api_key, api_secrets)\n",
    "print(client.get_account_status())\n",
    "MOEDA = 'SANTOSBUSD'\n",
    "initial_price = float(client.get_recent_trades(symbol=MOEDA)[-1]['price'])\n",
    "M = 30_000\n",
    "TX = 0.001\n",
    "brl_i = M/(2+TX)\n",
    "chz_i = ((M-brl_i)*(1-TX))/initial_price\n",
    "xi = initial_price"
   ]
  },
  {
   "cell_type": "code",
   "execution_count": 3,
   "metadata": {},
   "outputs": [],
   "source": [
    "def p_delta():    \n",
    "    delta_x = xf - xi\n",
    "    porc_delta = (delta_x/xi)*100\n",
    "    return porc_delta\n",
    "\n",
    "def transf(brl, chz, xf):\n",
    "    def calc_lucro(brl, chz, xf):    \n",
    "        return chz*xf - brl\n",
    "    l = calc_lucro(brl, chz, xf)\n",
    "    return abs(l/(2-TX))\n",
    "\n",
    "def od_compra(brl, chz, xf):\n",
    "    t = transf(brl, chz, xf)   \n",
    "    brl_f = brl - t\n",
    "    chz_f = chz + (t/xf)*(1-TX)\n",
    "    return brl_f, chz_f\n",
    "\n",
    "def od_venda(brl, chz, xf):\n",
    "    t = transf(brl, chz, xf)  \n",
    "    brl_f = brl + t*(1-TX)\n",
    "    chz_f = chz - (t/xf)\n",
    "    return brl_f, chz_f\n",
    "\n",
    "def s_venda(brl, chz, xf, xi):\n",
    "    brl_t, chz_t = od_venda(brl, chz, xf)\n",
    "    brl_f, chz_f = od_compra(brl_t, chz_t, xi)\n",
    "    return brl_f, chz_f\n",
    "\n",
    "def s_compra(brl, chz, xf, xi):\n",
    "    brl_t, chz_t = od_compra(brl, chz, xf)\n",
    "    brl_f, chz_f = od_venda(brl_t, chz_t, xi)\n",
    "    return brl_f, chz_f\n"
   ]
  },
  {
   "cell_type": "code",
   "execution_count": 5,
   "metadata": {},
   "outputs": [
    {
     "name": "stdout",
     "output_type": "stream",
     "text": [
      "4.527 4.526 4.526\n",
      "-0.008967307112470735 0.0013312409719219431\n",
      "-0.009324014472440467 0.0012524280336947413\n",
      "0.02209456473708206\n"
     ]
    }
   ],
   "source": [
    "while True:\n",
    "    xf = float(client.get_recent_trades(symbol=MOEDA)[-1]['price'])\n",
    "    print(xf, xi, initial_price)\n",
    "\n",
    "    brl_f, chz_f = s_venda(brl_i, chz_i, xf, xi)\n",
    "    delta_brl = brl_f - brl_i\n",
    "    delta_chz = chz_f - chz_i\n",
    "    print(delta_brl, delta_chz)\n",
    "\n",
    "    brl_f, chz_f = s_compra(brl_i, chz_i, xf, xi)\n",
    "    delta_brl = brl_f - brl_i\n",
    "    delta_chz = chz_f - chz_i\n",
    "    print(delta_brl, delta_chz)\n",
    "\n",
    "    print(100*((xf - xi)/xi))\n",
    "    sleep(10)"
   ]
  },
  {
   "cell_type": "code",
   "execution_count": 57,
   "metadata": {},
   "outputs": [
    {
     "data": {
      "text/plain": [
       "40000.0"
      ]
     },
     "execution_count": 57,
     "metadata": {},
     "output_type": "execute_result"
    }
   ],
   "source": [
    "x = 1_000_000 * 0.04\n",
    "x"
   ]
  },
  {
   "cell_type": "code",
   "execution_count": null,
   "metadata": {},
   "outputs": [],
   "source": []
  }
 ],
 "metadata": {
  "kernelspec": {
   "display_name": "Python 3",
   "language": "python",
   "name": "python3"
  },
  "language_info": {
   "codemirror_mode": {
    "name": "ipython",
    "version": 3
   },
   "file_extension": ".py",
   "mimetype": "text/x-python",
   "name": "python",
   "nbconvert_exporter": "python",
   "pygments_lexer": "ipython3",
   "version": "3.7.7"
  },
  "orig_nbformat": 4,
  "vscode": {
   "interpreter": {
    "hash": "e51adf55a4ca4305a4a6e8182bfb2a244a108ccc73e4ce3043231f4ffc0e749b"
   }
  }
 },
 "nbformat": 4,
 "nbformat_minor": 2
}
