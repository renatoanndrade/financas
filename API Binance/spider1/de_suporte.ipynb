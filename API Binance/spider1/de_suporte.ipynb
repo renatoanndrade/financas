{
 "cells": [
  {
   "cell_type": "code",
   "execution_count": null,
   "metadata": {},
   "outputs": [],
   "source": [
    "xii = xs[0]\n",
    "brl_i, chz_i = dinheiro_inicial(M, TX, xii)\n",
    "\n",
    "\n",
    "xi = xii\n",
    "xf = xs[20]\n",
    "var = 8\n",
    "delta_x = p_delta(xf, xi)\n",
    "if (delta_x > var) or (delta_x < - var):\n",
    "    t = transf(brl_i, chz_i, xf)\n",
    "    print(xi, xf)\n",
    "    print(t)"
   ]
  }
 ],
 "metadata": {
  "kernelspec": {
   "display_name": "Python 3",
   "language": "python",
   "name": "python3"
  },
  "language_info": {
   "name": "python",
   "version": "3.8.7 (tags/v3.8.7:6503f05, Dec 21 2020, 17:59:51) [MSC v.1928 64 bit (AMD64)]"
  },
  "orig_nbformat": 4,
  "vscode": {
   "interpreter": {
    "hash": "c87cfe4c107c91d3427f44f1147db2a5b76fe7794a575ac4c74cc7f6ffba11c6"
   }
  }
 },
 "nbformat": 4,
 "nbformat_minor": 2
}
