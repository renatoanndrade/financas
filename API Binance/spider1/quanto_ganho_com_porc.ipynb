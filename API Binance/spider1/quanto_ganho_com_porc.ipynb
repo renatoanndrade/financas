{
 "cells": [
  {
   "cell_type": "code",
   "execution_count": 1,
   "metadata": {},
   "outputs": [
    {
     "name": "stdout",
     "output_type": "stream",
     "text": [
      "{'data': 'Normal'}\n"
     ]
    }
   ],
   "source": [
    "from binance.client import Client\n",
    "from secrets import api_secrets, api_key\n",
    "from binance.enums import *\n",
    "import matplotlib.pyplot as plt\n",
    "import numpy as np\n",
    "import plotly.express as px\n",
    "from scipy import stats\n",
    "from time import sleep\n",
    "from IPython.display import clear_output\n",
    "import winsound\n",
    "import pandas as pd\n",
    "\n",
    "client = Client(api_key, api_secrets)\n",
    "print(client.get_account_status())"
   ]
  },
  {
   "cell_type": "code",
   "execution_count": 81,
   "metadata": {},
   "outputs": [],
   "source": [
    "def p_delta(xf, xi):    \n",
    "    delta_x = xf - xi\n",
    "    porc_delta = (delta_x/xi)*100\n",
    "    return porc_delta\n",
    "\n",
    "def transf(brl, chz, xf):\n",
    "    def calc_lucro(brl, chz, xf):    \n",
    "        return chz*xf - brl\n",
    "    l = calc_lucro(brl, chz, xf)    \n",
    "    return l/(2-TX)\n",
    "\n",
    "def od_compra(brl, chz, xf):\n",
    "    t = transf(brl, chz, xf)\n",
    "    t = abs(t)   \n",
    "    brl_f = brl - t\n",
    "    chz_f = chz + (t/xf)*(1-TX)\n",
    "    return brl_f, chz_f, xf\n",
    "\n",
    "def od_venda(brl, chz, xf):\n",
    "    t = transf(brl, chz, xf)\n",
    "    t = abs(t)  \n",
    "    brl_f = brl + t*(1-TX)\n",
    "    chz_f = chz - (t/xf)\n",
    "    return brl_f, chz_f, xf\n",
    "\n",
    "def remove_precos_vazios(todas_moedas, inter_tempo, tempo):\n",
    "    def pega_precos(moeda):       \n",
    "        klines = client.get_historical_klines(moeda, inter_tempo, tempo)\n",
    "        precos = np.array([float(x[1]) for x in klines])\n",
    "        return precos[1:-2], moeda\n",
    "    xs = [pega_precos(x) for x in todas_moedas]\n",
    "    xx = [x for x in xs if len(x[0]) is not 0]\n",
    "    return xx\n",
    "\n",
    "def dinheiro_inicial(M, TX, xii):\n",
    "    brl_i = M/(2+TX)\n",
    "    chz_i = (M-brl_i)*(1-TX)/xii\n",
    "    return brl_i, chz_i\n",
    "\n",
    "def pega_porcentagem(xizes, var, M, bloq):\n",
    "    retorno = []\n",
    "    for x in xizes:\n",
    "        moeda = x[1]\n",
    "        precos = x[0]\n",
    "        xii = precos[0]\n",
    "        xi = xii\n",
    "        brl_i, chz_i = dinheiro_inicial(M, TX, xii)\n",
    "        brl_f = brl_i\n",
    "        chz_f = chz_i\n",
    "        M1 = brl_i + chz_i*xii\n",
    "\n",
    "        for xf in precos:\n",
    "            p_delta_x = p_delta(xf, xi)  \n",
    "            if abs(p_delta_x) > var:                \n",
    "                t = transf(brl_f, chz_f, xf)\n",
    "                              \n",
    "                if t < - bloq:                                      \n",
    "                    brl_f, chz_f, xi = od_compra(brl_f, chz_f, xf)                    \n",
    "                elif t > bloq:                                      \n",
    "                    brl_f, chz_f, xi = od_venda(brl_f, chz_f, xf)\n",
    "                   \n",
    "        \n",
    "        M2 = brl_f + chz_f*xii*(1-TX)\n",
    "        M3 = brl_f + chz_f*xf*(1-TX)\n",
    "        p1 = 100*(M2 - M)/M\n",
    "        p2 = 100*(M3 - M)/M\n",
    "        print(M2)\n",
    "\n",
    "        retorno.append([p1, p2, moeda])\n",
    "    return retorno\n"
   ]
  },
  {
   "cell_type": "code",
   "execution_count": 10,
   "metadata": {},
   "outputs": [],
   "source": [
    "#pegando todas moedas\n",
    "t = client.get_ticker()\n",
    "todas_moedas = [x['symbol'] for x in t if x['symbol'][-3:] == 'USD']\n",
    "#Gana inicial\n",
    "M = 50_000\n",
    "TX = 0.001\n",
    "#todas_moedas = ['LUNABUSD']"
   ]
  },
  {
   "cell_type": "code",
   "execution_count": 15,
   "metadata": {},
   "outputs": [
    {
     "data": {
      "text/plain": [
       "[(array([46.41, 46.16, 46.05, 46.32, 45.97, 46.  , 46.46, 46.74, 46.7 ,\n",
       "         46.72, 46.9 , 47.42, 47.3 , 47.7 , 47.66, 47.37, 47.25, 47.36,\n",
       "         47.61, 47.89, 47.41, 47.1 , 47.  , 46.97, 47.3 , 47.4 , 47.51,\n",
       "         47.85, 49.09, 48.88, 48.78, 49.12, 50.21, 49.5 , 49.37, 49.53,\n",
       "         49.59, 49.84, 49.87, 49.53, 49.69, 49.33, 49.85, 50.27, 50.01]),\n",
       "  'DASHBUSD')]"
      ]
     },
     "execution_count": 15,
     "metadata": {},
     "output_type": "execute_result"
    }
   ],
   "source": [
    "#xizes são os precos das diferentes moedas\n",
    "xizes = remove_precos_vazios(todas_moedas[56:57], Client.KLINE_INTERVAL_1HOUR, \"2 day ago UTC\")\n",
    "xizes\n",
    "\n"
   ]
  },
  {
   "cell_type": "code",
   "execution_count": 84,
   "metadata": {},
   "outputs": [
    {
     "name": "stdout",
     "output_type": "stream",
     "text": [
      "+\n",
      "5002.399904448726\n"
     ]
    },
    {
     "data": {
      "text/html": [
       "<div>\n",
       "<style scoped>\n",
       "    .dataframe tbody tr th:only-of-type {\n",
       "        vertical-align: middle;\n",
       "    }\n",
       "\n",
       "    .dataframe tbody tr th {\n",
       "        vertical-align: top;\n",
       "    }\n",
       "\n",
       "    .dataframe thead th {\n",
       "        text-align: right;\n",
       "    }\n",
       "</style>\n",
       "<table border=\"1\" class=\"dataframe\">\n",
       "  <thead>\n",
       "    <tr style=\"text-align: right;\">\n",
       "      <th></th>\n",
       "      <th>p_xii</th>\n",
       "      <th>p_xf</th>\n",
       "      <th>moeda</th>\n",
       "    </tr>\n",
       "  </thead>\n",
       "  <tbody>\n",
       "    <tr>\n",
       "      <th>0</th>\n",
       "      <td>0.047998</td>\n",
       "      <td>3.893999</td>\n",
       "      <td>MEUMOEDA</td>\n",
       "    </tr>\n",
       "  </tbody>\n",
       "</table>\n",
       "</div>"
      ],
      "text/plain": [
       "      p_xii      p_xf     moeda\n",
       "0  0.047998  3.893999  MEUMOEDA"
      ]
     },
     "execution_count": 84,
     "metadata": {},
     "output_type": "execute_result"
    }
   ],
   "source": [
    "var = 8\n",
    "bloq = 10\n",
    "M = 5000\n",
    "\n",
    "xizes = [(np.array([1, 1.08]),'MEUMOEDA')]\n",
    "porce = pega_porcentagem(xizes, var, M, bloq)\n",
    "df = pd.DataFrame (porce, columns = ['p_xii', 'p_xf', 'moeda'])\n",
    "df.sort_values(by=['p_xf'], ascending=False).head()"
   ]
  },
  {
   "cell_type": "code",
   "execution_count": 69,
   "metadata": {},
   "outputs": [
    {
     "data": {
      "text/plain": [
       "0.092"
      ]
     },
     "execution_count": 69,
     "metadata": {},
     "output_type": "execute_result"
    }
   ],
   "source": [
    "100*(46/50000)"
   ]
  },
  {
   "cell_type": "code",
   "execution_count": null,
   "metadata": {},
   "outputs": [],
   "source": []
  }
 ],
 "metadata": {
  "kernelspec": {
   "display_name": "Python 3",
   "language": "python",
   "name": "python3"
  },
  "language_info": {
   "codemirror_mode": {
    "name": "ipython",
    "version": 3
   },
   "file_extension": ".py",
   "mimetype": "text/x-python",
   "name": "python",
   "nbconvert_exporter": "python",
   "pygments_lexer": "ipython3",
   "version": "3.7.7"
  },
  "orig_nbformat": 4,
  "vscode": {
   "interpreter": {
    "hash": "e51adf55a4ca4305a4a6e8182bfb2a244a108ccc73e4ce3043231f4ffc0e749b"
   }
  }
 },
 "nbformat": 4,
 "nbformat_minor": 2
}
